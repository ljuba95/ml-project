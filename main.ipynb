{
 "cells": [
  {
   "cell_type": "code",
   "execution_count": 1,
   "metadata": {},
   "outputs": [
    {
     "data": {
      "text/html": [
       "<div>\n",
       "<style scoped>\n",
       "    .dataframe tbody tr th:only-of-type {\n",
       "        vertical-align: middle;\n",
       "    }\n",
       "\n",
       "    .dataframe tbody tr th {\n",
       "        vertical-align: top;\n",
       "    }\n",
       "\n",
       "    .dataframe thead th {\n",
       "        text-align: right;\n",
       "    }\n",
       "</style>\n",
       "<table border=\"1\" class=\"dataframe\">\n",
       "  <thead>\n",
       "    <tr style=\"text-align: right;\">\n",
       "      <th></th>\n",
       "      <th>SeriousDlqin2yrs</th>\n",
       "      <th>RevolvingUtilizationOfUnsecuredLines</th>\n",
       "      <th>age</th>\n",
       "      <th>NumberOfTime30-59DaysPastDueNotWorse</th>\n",
       "      <th>DebtRatio</th>\n",
       "      <th>MonthlyIncome</th>\n",
       "      <th>NumberOfOpenCreditLinesAndLoans</th>\n",
       "      <th>NumberOfTimes90DaysLate</th>\n",
       "      <th>NumberRealEstateLoansOrLines</th>\n",
       "      <th>NumberOfTime60-89DaysPastDueNotWorse</th>\n",
       "      <th>NumberOfDependents</th>\n",
       "    </tr>\n",
       "  </thead>\n",
       "  <tbody>\n",
       "    <tr>\n",
       "      <th>count</th>\n",
       "      <td>150000.000000</td>\n",
       "      <td>150000.000000</td>\n",
       "      <td>150000.000000</td>\n",
       "      <td>150000.000000</td>\n",
       "      <td>150000.000000</td>\n",
       "      <td>1.202690e+05</td>\n",
       "      <td>150000.000000</td>\n",
       "      <td>150000.000000</td>\n",
       "      <td>150000.000000</td>\n",
       "      <td>150000.000000</td>\n",
       "      <td>146076.000000</td>\n",
       "    </tr>\n",
       "    <tr>\n",
       "      <th>mean</th>\n",
       "      <td>0.066840</td>\n",
       "      <td>6.048438</td>\n",
       "      <td>52.295553</td>\n",
       "      <td>0.421033</td>\n",
       "      <td>353.005076</td>\n",
       "      <td>6.670221e+03</td>\n",
       "      <td>8.452760</td>\n",
       "      <td>0.265973</td>\n",
       "      <td>1.018240</td>\n",
       "      <td>0.240387</td>\n",
       "      <td>0.757222</td>\n",
       "    </tr>\n",
       "    <tr>\n",
       "      <th>std</th>\n",
       "      <td>0.249746</td>\n",
       "      <td>249.755371</td>\n",
       "      <td>14.771249</td>\n",
       "      <td>4.192781</td>\n",
       "      <td>2037.818523</td>\n",
       "      <td>1.438467e+04</td>\n",
       "      <td>5.145951</td>\n",
       "      <td>4.169304</td>\n",
       "      <td>1.129771</td>\n",
       "      <td>4.155179</td>\n",
       "      <td>1.115086</td>\n",
       "    </tr>\n",
       "    <tr>\n",
       "      <th>min</th>\n",
       "      <td>0.000000</td>\n",
       "      <td>0.000000</td>\n",
       "      <td>21.000000</td>\n",
       "      <td>0.000000</td>\n",
       "      <td>0.000000</td>\n",
       "      <td>0.000000e+00</td>\n",
       "      <td>0.000000</td>\n",
       "      <td>0.000000</td>\n",
       "      <td>0.000000</td>\n",
       "      <td>0.000000</td>\n",
       "      <td>0.000000</td>\n",
       "    </tr>\n",
       "    <tr>\n",
       "      <th>25%</th>\n",
       "      <td>0.000000</td>\n",
       "      <td>0.029867</td>\n",
       "      <td>41.000000</td>\n",
       "      <td>0.000000</td>\n",
       "      <td>0.175074</td>\n",
       "      <td>3.400000e+03</td>\n",
       "      <td>5.000000</td>\n",
       "      <td>0.000000</td>\n",
       "      <td>0.000000</td>\n",
       "      <td>0.000000</td>\n",
       "      <td>0.000000</td>\n",
       "    </tr>\n",
       "    <tr>\n",
       "      <th>50%</th>\n",
       "      <td>0.000000</td>\n",
       "      <td>0.154181</td>\n",
       "      <td>52.000000</td>\n",
       "      <td>0.000000</td>\n",
       "      <td>0.366508</td>\n",
       "      <td>5.400000e+03</td>\n",
       "      <td>8.000000</td>\n",
       "      <td>0.000000</td>\n",
       "      <td>1.000000</td>\n",
       "      <td>0.000000</td>\n",
       "      <td>0.000000</td>\n",
       "    </tr>\n",
       "    <tr>\n",
       "      <th>75%</th>\n",
       "      <td>0.000000</td>\n",
       "      <td>0.559046</td>\n",
       "      <td>63.000000</td>\n",
       "      <td>0.000000</td>\n",
       "      <td>0.868254</td>\n",
       "      <td>8.249000e+03</td>\n",
       "      <td>11.000000</td>\n",
       "      <td>0.000000</td>\n",
       "      <td>2.000000</td>\n",
       "      <td>0.000000</td>\n",
       "      <td>1.000000</td>\n",
       "    </tr>\n",
       "    <tr>\n",
       "      <th>max</th>\n",
       "      <td>1.000000</td>\n",
       "      <td>50708.000000</td>\n",
       "      <td>109.000000</td>\n",
       "      <td>98.000000</td>\n",
       "      <td>329664.000000</td>\n",
       "      <td>3.008750e+06</td>\n",
       "      <td>58.000000</td>\n",
       "      <td>98.000000</td>\n",
       "      <td>54.000000</td>\n",
       "      <td>98.000000</td>\n",
       "      <td>20.000000</td>\n",
       "    </tr>\n",
       "  </tbody>\n",
       "</table>\n",
       "</div>"
      ],
      "text/plain": [
       "       SeriousDlqin2yrs  RevolvingUtilizationOfUnsecuredLines            age  \\\n",
       "count     150000.000000                         150000.000000  150000.000000   \n",
       "mean           0.066840                              6.048438      52.295553   \n",
       "std            0.249746                            249.755371      14.771249   \n",
       "min            0.000000                              0.000000      21.000000   \n",
       "25%            0.000000                              0.029867      41.000000   \n",
       "50%            0.000000                              0.154181      52.000000   \n",
       "75%            0.000000                              0.559046      63.000000   \n",
       "max            1.000000                          50708.000000     109.000000   \n",
       "\n",
       "       NumberOfTime30-59DaysPastDueNotWorse      DebtRatio  MonthlyIncome  \\\n",
       "count                         150000.000000  150000.000000   1.202690e+05   \n",
       "mean                               0.421033     353.005076   6.670221e+03   \n",
       "std                                4.192781    2037.818523   1.438467e+04   \n",
       "min                                0.000000       0.000000   0.000000e+00   \n",
       "25%                                0.000000       0.175074   3.400000e+03   \n",
       "50%                                0.000000       0.366508   5.400000e+03   \n",
       "75%                                0.000000       0.868254   8.249000e+03   \n",
       "max                               98.000000  329664.000000   3.008750e+06   \n",
       "\n",
       "       NumberOfOpenCreditLinesAndLoans  NumberOfTimes90DaysLate  \\\n",
       "count                    150000.000000            150000.000000   \n",
       "mean                          8.452760                 0.265973   \n",
       "std                           5.145951                 4.169304   \n",
       "min                           0.000000                 0.000000   \n",
       "25%                           5.000000                 0.000000   \n",
       "50%                           8.000000                 0.000000   \n",
       "75%                          11.000000                 0.000000   \n",
       "max                          58.000000                98.000000   \n",
       "\n",
       "       NumberRealEstateLoansOrLines  NumberOfTime60-89DaysPastDueNotWorse  \\\n",
       "count                 150000.000000                         150000.000000   \n",
       "mean                       1.018240                              0.240387   \n",
       "std                        1.129771                              4.155179   \n",
       "min                        0.000000                              0.000000   \n",
       "25%                        0.000000                              0.000000   \n",
       "50%                        1.000000                              0.000000   \n",
       "75%                        2.000000                              0.000000   \n",
       "max                       54.000000                             98.000000   \n",
       "\n",
       "       NumberOfDependents  \n",
       "count       146076.000000  \n",
       "mean             0.757222  \n",
       "std              1.115086  \n",
       "min              0.000000  \n",
       "25%              0.000000  \n",
       "50%              0.000000  \n",
       "75%              1.000000  \n",
       "max             20.000000  "
      ]
     },
     "execution_count": 1,
     "metadata": {},
     "output_type": "execute_result"
    }
   ],
   "source": [
    "import pandas as pd\n",
    "import numpy as np\n",
    "import seaborn as sns\n",
    "\n",
    "df = pd.read_csv('kredit.csv')\n",
    "\n",
    "df.drop(df.columns[0], axis=1, inplace=True)\n",
    "df.describe()\n",
    "#MonthlyIncome and NumberOfDependents have missing values, there is a 0 in ages.\n",
    "df.age.plot.box()\n",
    "\n",
    "#replace 0 age with median\n",
    "\n",
    "def replaceValuesWithMedian(data, values = []):\n",
    "    med = np.median(data)\n",
    "    return pd.Series(map(lambda val: med if val in values else val, data))\n",
    "\n",
    "df['age'] = replaceValuesWithMedian(df['age'],[0])\n",
    "df.describe()"
   ]
  },
  {
   "cell_type": "code",
   "execution_count": 2,
   "metadata": {},
   "outputs": [
    {
     "name": "stdout",
     "output_type": "stream",
     "text": [
      "Class balance:\n",
      "93.316 %\n",
      "6.683999999999999 %\n"
     ]
    },
    {
     "data": {
      "image/png": "[encoded data removed]",
      "text/plain": [
       "<Figure size 432x288 with 1 Axes>"
      ]
     },
     "metadata": {},
     "output_type": "display_data"
    }
   ],
   "source": [
    "#outcome variable mean is 0.066, not a good sign\n",
    "plot = sns.countplot(x=df['SeriousDlqin2yrs'])\n",
    "#here we see that we have a class disbalance problem\n",
    "print('Class balance:')\n",
    "for bin in plot.patches:\n",
    "    print(bin.get_bbox().get_points()[1,1]/len(df)*100, '%')\n"
   ]
  },
  {
   "cell_type": "code",
   "execution_count": 3,
   "metadata": {},
   "outputs": [
    {
     "data": {
      "text/plain": [
       "0     126018\n",
       "1      16033\n",
       "2       4598\n",
       "3       1754\n",
       "4        747\n",
       "5        342\n",
       "98       264\n",
       "6        140\n",
       "7         54\n",
       "8         25\n",
       "9         12\n",
       "96         5\n",
       "10         4\n",
       "12         2\n",
       "13         1\n",
       "11         1\n",
       "Name: NumberOfTime30-59DaysPastDueNotWorse, dtype: int64"
      ]
     },
     "execution_count": 3,
     "metadata": {},
     "output_type": "execute_result"
    }
   ],
   "source": [
    "#notice the strange value 98 appearing as max in data description for all of 3 NumberOfTime... variables\n",
    "np.unique(df['NumberOfTime30-59DaysPastDueNotWorse'])\n",
    "df['NumberOfTime30-59DaysPastDueNotWorse'].value_counts()"
   ]
  },
  {
   "cell_type": "code",
   "execution_count": 4,
   "metadata": {},
   "outputs": [
    {
     "data": {
      "text/plain": [
       "0     141662\n",
       "1       5243\n",
       "2       1555\n",
       "3        667\n",
       "4        291\n",
       "98       264\n",
       "5        131\n",
       "6         80\n",
       "7         38\n",
       "8         21\n",
       "9         19\n",
       "10         8\n",
       "11         5\n",
       "96         5\n",
       "13         4\n",
       "12         2\n",
       "14         2\n",
       "15         2\n",
       "17         1\n",
       "Name: NumberOfTimes90DaysLate, dtype: int64"
      ]
     },
     "execution_count": 4,
     "metadata": {},
     "output_type": "execute_result"
    }
   ],
   "source": [
    "df['NumberOfTimes90DaysLate'].value_counts()"
   ]
  },
  {
   "cell_type": "code",
   "execution_count": 5,
   "metadata": {},
   "outputs": [
    {
     "data": {
      "text/plain": [
       "0     142396\n",
       "1       5731\n",
       "2       1118\n",
       "3        318\n",
       "98       264\n",
       "4        105\n",
       "5         34\n",
       "6         16\n",
       "7          9\n",
       "96         5\n",
       "8          2\n",
       "11         1\n",
       "9          1\n",
       "Name: NumberOfTime60-89DaysPastDueNotWorse, dtype: int64"
      ]
     },
     "execution_count": 5,
     "metadata": {},
     "output_type": "execute_result"
    }
   ],
   "source": [
    "df['NumberOfTime60-89DaysPastDueNotWorse'].value_counts()"
   ]
  },
  {
   "cell_type": "code",
   "execution_count": 6,
   "metadata": {},
   "outputs": [],
   "source": [
    "#replace 98 and 96 with median\n",
    "df['NumberOfTime30-59DaysPastDueNotWorse'] = replaceValuesWithMedian(df['NumberOfTime30-59DaysPastDueNotWorse'],[96,98])\n",
    "df['NumberOfTimes90DaysLate'] = replaceValuesWithMedian(df['NumberOfTimes90DaysLate'],[96,98])\n",
    "df['NumberOfTime60-89DaysPastDueNotWorse'] = replaceValuesWithMedian(df['NumberOfTime60-89DaysPastDueNotWorse'],[96,98])"
   ]
  },
  {
   "cell_type": "code",
   "execution_count": 7,
   "metadata": {},
   "outputs": [
    {
     "data": {
      "text/html": [
       "<div>\n",
       "<style scoped>\n",
       "    .dataframe tbody tr th:only-of-type {\n",
       "        vertical-align: middle;\n",
       "    }\n",
       "\n",
       "    .dataframe tbody tr th {\n",
       "        vertical-align: top;\n",
       "    }\n",
       "\n",
       "    .dataframe thead th {\n",
       "        text-align: right;\n",
       "    }\n",
       "</style>\n",
       "<table border=\"1\" class=\"dataframe\">\n",
       "  <thead>\n",
       "    <tr style=\"text-align: right;\">\n",
       "      <th></th>\n",
       "      <th>SeriousDlqin2yrs</th>\n",
       "      <th>RevolvingUtilizationOfUnsecuredLines</th>\n",
       "      <th>age</th>\n",
       "      <th>NumberOfTime30-59DaysPastDueNotWorse</th>\n",
       "      <th>DebtRatio</th>\n",
       "      <th>MonthlyIncome</th>\n",
       "      <th>NumberOfOpenCreditLinesAndLoans</th>\n",
       "      <th>NumberOfTimes90DaysLate</th>\n",
       "      <th>NumberRealEstateLoansOrLines</th>\n",
       "      <th>NumberOfTime60-89DaysPastDueNotWorse</th>\n",
       "      <th>NumberOfDependents</th>\n",
       "    </tr>\n",
       "  </thead>\n",
       "  <tbody>\n",
       "    <tr>\n",
       "      <th>count</th>\n",
       "      <td>150000.000000</td>\n",
       "      <td>150000.000000</td>\n",
       "      <td>150000.000000</td>\n",
       "      <td>150000.000000</td>\n",
       "      <td>150000.000000</td>\n",
       "      <td>1.500000e+05</td>\n",
       "      <td>150000.000000</td>\n",
       "      <td>150000.000000</td>\n",
       "      <td>150000.000000</td>\n",
       "      <td>150000.000000</td>\n",
       "      <td>150000.000000</td>\n",
       "    </tr>\n",
       "    <tr>\n",
       "      <th>mean</th>\n",
       "      <td>0.066840</td>\n",
       "      <td>6.048438</td>\n",
       "      <td>52.295553</td>\n",
       "      <td>0.245353</td>\n",
       "      <td>353.005076</td>\n",
       "      <td>6.418455e+03</td>\n",
       "      <td>8.452760</td>\n",
       "      <td>0.090293</td>\n",
       "      <td>1.018240</td>\n",
       "      <td>0.064707</td>\n",
       "      <td>0.737413</td>\n",
       "    </tr>\n",
       "    <tr>\n",
       "      <th>std</th>\n",
       "      <td>0.249746</td>\n",
       "      <td>249.755371</td>\n",
       "      <td>14.771249</td>\n",
       "      <td>0.697231</td>\n",
       "      <td>2037.818523</td>\n",
       "      <td>1.289040e+04</td>\n",
       "      <td>5.145951</td>\n",
       "      <td>0.485107</td>\n",
       "      <td>1.129771</td>\n",
       "      <td>0.329788</td>\n",
       "      <td>1.107021</td>\n",
       "    </tr>\n",
       "    <tr>\n",
       "      <th>min</th>\n",
       "      <td>0.000000</td>\n",
       "      <td>0.000000</td>\n",
       "      <td>21.000000</td>\n",
       "      <td>0.000000</td>\n",
       "      <td>0.000000</td>\n",
       "      <td>0.000000e+00</td>\n",
       "      <td>0.000000</td>\n",
       "      <td>0.000000</td>\n",
       "      <td>0.000000</td>\n",
       "      <td>0.000000</td>\n",
       "      <td>0.000000</td>\n",
       "    </tr>\n",
       "    <tr>\n",
       "      <th>25%</th>\n",
       "      <td>0.000000</td>\n",
       "      <td>0.029867</td>\n",
       "      <td>41.000000</td>\n",
       "      <td>0.000000</td>\n",
       "      <td>0.175074</td>\n",
       "      <td>3.903000e+03</td>\n",
       "      <td>5.000000</td>\n",
       "      <td>0.000000</td>\n",
       "      <td>0.000000</td>\n",
       "      <td>0.000000</td>\n",
       "      <td>0.000000</td>\n",
       "    </tr>\n",
       "    <tr>\n",
       "      <th>50%</th>\n",
       "      <td>0.000000</td>\n",
       "      <td>0.154181</td>\n",
       "      <td>52.000000</td>\n",
       "      <td>0.000000</td>\n",
       "      <td>0.366508</td>\n",
       "      <td>5.400000e+03</td>\n",
       "      <td>8.000000</td>\n",
       "      <td>0.000000</td>\n",
       "      <td>1.000000</td>\n",
       "      <td>0.000000</td>\n",
       "      <td>0.000000</td>\n",
       "    </tr>\n",
       "    <tr>\n",
       "      <th>75%</th>\n",
       "      <td>0.000000</td>\n",
       "      <td>0.559046</td>\n",
       "      <td>63.000000</td>\n",
       "      <td>0.000000</td>\n",
       "      <td>0.868254</td>\n",
       "      <td>7.400000e+03</td>\n",
       "      <td>11.000000</td>\n",
       "      <td>0.000000</td>\n",
       "      <td>2.000000</td>\n",
       "      <td>0.000000</td>\n",
       "      <td>1.000000</td>\n",
       "    </tr>\n",
       "    <tr>\n",
       "      <th>max</th>\n",
       "      <td>1.000000</td>\n",
       "      <td>50708.000000</td>\n",
       "      <td>109.000000</td>\n",
       "      <td>13.000000</td>\n",
       "      <td>329664.000000</td>\n",
       "      <td>3.008750e+06</td>\n",
       "      <td>58.000000</td>\n",
       "      <td>17.000000</td>\n",
       "      <td>54.000000</td>\n",
       "      <td>11.000000</td>\n",
       "      <td>20.000000</td>\n",
       "    </tr>\n",
       "  </tbody>\n",
       "</table>\n",
       "</div>"
      ],
      "text/plain": [
       "       SeriousDlqin2yrs  RevolvingUtilizationOfUnsecuredLines            age  \\\n",
       "count     150000.000000                         150000.000000  150000.000000   \n",
       "mean           0.066840                              6.048438      52.295553   \n",
       "std            0.249746                            249.755371      14.771249   \n",
       "min            0.000000                              0.000000      21.000000   \n",
       "25%            0.000000                              0.029867      41.000000   \n",
       "50%            0.000000                              0.154181      52.000000   \n",
       "75%            0.000000                              0.559046      63.000000   \n",
       "max            1.000000                          50708.000000     109.000000   \n",
       "\n",
       "       NumberOfTime30-59DaysPastDueNotWorse      DebtRatio  MonthlyIncome  \\\n",
       "count                         150000.000000  150000.000000   1.500000e+05   \n",
       "mean                               0.245353     353.005076   6.418455e+03   \n",
       "std                                0.697231    2037.818523   1.289040e+04   \n",
       "min                                0.000000       0.000000   0.000000e+00   \n",
       "25%                                0.000000       0.175074   3.903000e+03   \n",
       "50%                                0.000000       0.366508   5.400000e+03   \n",
       "75%                                0.000000       0.868254   7.400000e+03   \n",
       "max                               13.000000  329664.000000   3.008750e+06   \n",
       "\n",
       "       NumberOfOpenCreditLinesAndLoans  NumberOfTimes90DaysLate  \\\n",
       "count                    150000.000000            150000.000000   \n",
       "mean                          8.452760                 0.090293   \n",
       "std                           5.145951                 0.485107   \n",
       "min                           0.000000                 0.000000   \n",
       "25%                           5.000000                 0.000000   \n",
       "50%                           8.000000                 0.000000   \n",
       "75%                          11.000000                 0.000000   \n",
       "max                          58.000000                17.000000   \n",
       "\n",
       "       NumberRealEstateLoansOrLines  NumberOfTime60-89DaysPastDueNotWorse  \\\n",
       "count                 150000.000000                         150000.000000   \n",
       "mean                       1.018240                              0.064707   \n",
       "std                        1.129771                              0.329788   \n",
       "min                        0.000000                              0.000000   \n",
       "25%                        0.000000                              0.000000   \n",
       "50%                        1.000000                              0.000000   \n",
       "75%                        2.000000                              0.000000   \n",
       "max                       54.000000                             11.000000   \n",
       "\n",
       "       NumberOfDependents  \n",
       "count       150000.000000  \n",
       "mean             0.737413  \n",
       "std              1.107021  \n",
       "min              0.000000  \n",
       "25%              0.000000  \n",
       "50%              0.000000  \n",
       "75%              1.000000  \n",
       "max             20.000000  "
      ]
     },
     "execution_count": 7,
     "metadata": {},
     "output_type": "execute_result"
    }
   ],
   "source": [
    "#MonthlyIncome and NumberOfDependents have missing values(their count is not 150000 in data description)\n",
    "#replace NA's with median\n",
    "fill_values = {}\n",
    "for i in [5,10]:\n",
    "    fill_values[df.columns[i]] = np.nanmedian(df[df.columns[i]])\n",
    "df.fillna(fill_values, inplace=True)\n",
    "\n",
    "df.describe()"
   ]
  },
  {
   "cell_type": "code",
   "execution_count": 8,
   "metadata": {},
   "outputs": [
    {
     "data": {
      "text/html": [
       "<div>\n",
       "<style scoped>\n",
       "    .dataframe tbody tr th:only-of-type {\n",
       "        vertical-align: middle;\n",
       "    }\n",
       "\n",
       "    .dataframe tbody tr th {\n",
       "        vertical-align: top;\n",
       "    }\n",
       "\n",
       "    .dataframe thead th {\n",
       "        text-align: right;\n",
       "    }\n",
       "</style>\n",
       "<table border=\"1\" class=\"dataframe\">\n",
       "  <thead>\n",
       "    <tr style=\"text-align: right;\">\n",
       "      <th></th>\n",
       "      <th>SeriousDlqin2yrs</th>\n",
       "      <th>RevolvingUtilizationOfUnsecuredLines</th>\n",
       "      <th>age</th>\n",
       "      <th>NumberOfTime30-59DaysPastDueNotWorse</th>\n",
       "      <th>DebtRatio</th>\n",
       "      <th>MonthlyIncome</th>\n",
       "      <th>NumberOfOpenCreditLinesAndLoans</th>\n",
       "      <th>NumberOfTimes90DaysLate</th>\n",
       "      <th>NumberRealEstateLoansOrLines</th>\n",
       "      <th>NumberOfTime60-89DaysPastDueNotWorse</th>\n",
       "      <th>NumberOfDependents</th>\n",
       "    </tr>\n",
       "  </thead>\n",
       "  <tbody>\n",
       "    <tr>\n",
       "      <th>0</th>\n",
       "      <td>1</td>\n",
       "      <td>0.766127</td>\n",
       "      <td>45.0</td>\n",
       "      <td>2.0</td>\n",
       "      <td>0.802982</td>\n",
       "      <td>9120.0</td>\n",
       "      <td>13</td>\n",
       "      <td>0.0</td>\n",
       "      <td>6</td>\n",
       "      <td>0.0</td>\n",
       "      <td>2.0</td>\n",
       "    </tr>\n",
       "    <tr>\n",
       "      <th>1</th>\n",
       "      <td>0</td>\n",
       "      <td>0.957151</td>\n",
       "      <td>40.0</td>\n",
       "      <td>0.0</td>\n",
       "      <td>0.121876</td>\n",
       "      <td>2600.0</td>\n",
       "      <td>4</td>\n",
       "      <td>0.0</td>\n",
       "      <td>0</td>\n",
       "      <td>0.0</td>\n",
       "      <td>1.0</td>\n",
       "    </tr>\n",
       "    <tr>\n",
       "      <th>2</th>\n",
       "      <td>0</td>\n",
       "      <td>0.658180</td>\n",
       "      <td>38.0</td>\n",
       "      <td>1.0</td>\n",
       "      <td>0.085113</td>\n",
       "      <td>3042.0</td>\n",
       "      <td>2</td>\n",
       "      <td>1.0</td>\n",
       "      <td>0</td>\n",
       "      <td>0.0</td>\n",
       "      <td>0.0</td>\n",
       "    </tr>\n",
       "    <tr>\n",
       "      <th>3</th>\n",
       "      <td>0</td>\n",
       "      <td>0.233810</td>\n",
       "      <td>30.0</td>\n",
       "      <td>0.0</td>\n",
       "      <td>0.036050</td>\n",
       "      <td>3300.0</td>\n",
       "      <td>5</td>\n",
       "      <td>0.0</td>\n",
       "      <td>0</td>\n",
       "      <td>0.0</td>\n",
       "      <td>0.0</td>\n",
       "    </tr>\n",
       "    <tr>\n",
       "      <th>4</th>\n",
       "      <td>0</td>\n",
       "      <td>0.907239</td>\n",
       "      <td>49.0</td>\n",
       "      <td>1.0</td>\n",
       "      <td>0.024926</td>\n",
       "      <td>63588.0</td>\n",
       "      <td>7</td>\n",
       "      <td>0.0</td>\n",
       "      <td>1</td>\n",
       "      <td>0.0</td>\n",
       "      <td>0.0</td>\n",
       "    </tr>\n",
       "  </tbody>\n",
       "</table>\n",
       "</div>"
      ],
      "text/plain": [
       "   SeriousDlqin2yrs  RevolvingUtilizationOfUnsecuredLines   age  \\\n",
       "0                 1                              0.766127  45.0   \n",
       "1                 0                              0.957151  40.0   \n",
       "2                 0                              0.658180  38.0   \n",
       "3                 0                              0.233810  30.0   \n",
       "4                 0                              0.907239  49.0   \n",
       "\n",
       "   NumberOfTime30-59DaysPastDueNotWorse  DebtRatio  MonthlyIncome  \\\n",
       "0                                   2.0   0.802982         9120.0   \n",
       "1                                   0.0   0.121876         2600.0   \n",
       "2                                   1.0   0.085113         3042.0   \n",
       "3                                   0.0   0.036050         3300.0   \n",
       "4                                   1.0   0.024926        63588.0   \n",
       "\n",
       "   NumberOfOpenCreditLinesAndLoans  NumberOfTimes90DaysLate  \\\n",
       "0                               13                      0.0   \n",
       "1                                4                      0.0   \n",
       "2                                2                      1.0   \n",
       "3                                5                      0.0   \n",
       "4                                7                      0.0   \n",
       "\n",
       "   NumberRealEstateLoansOrLines  NumberOfTime60-89DaysPastDueNotWorse  \\\n",
       "0                             6                                   0.0   \n",
       "1                             0                                   0.0   \n",
       "2                             0                                   0.0   \n",
       "3                             0                                   0.0   \n",
       "4                             1                                   0.0   \n",
       "\n",
       "   NumberOfDependents  \n",
       "0                 2.0  \n",
       "1                 1.0  \n",
       "2                 0.0  \n",
       "3                 0.0  \n",
       "4                 0.0  "
      ]
     },
     "execution_count": 8,
     "metadata": {},
     "output_type": "execute_result"
    }
   ],
   "source": [
    "df.head()"
   ]
  },
  {
   "cell_type": "code",
   "execution_count": 9,
   "metadata": {},
   "outputs": [
    {
     "name": "stdout",
     "output_type": "stream",
     "text": [
      "RevolvingUtilizationOfUnsecuredLines\n"
     ]
    },
    {
     "data": {
      "text/plain": [
       "<matplotlib.axes._subplots.AxesSubplot at 0x7fe35f829978>"
      ]
     },
     "execution_count": 9,
     "metadata": {},
     "output_type": "execute_result"
    },
    {
     "data": {
      "image/png": "[encoded data removed]",
      "text/plain": [
       "<Figure size 432x288 with 1 Axes>"
      ]
     },
     "metadata": {},
     "output_type": "display_data"
    }
   ],
   "source": [
    "#visualize numeric variables\n",
    "print(df.columns[1])\n",
    "sns.boxplot(data=df[df.columns[1]])"
   ]
  },
  {
   "cell_type": "code",
   "execution_count": 10,
   "metadata": {},
   "outputs": [
    {
     "name": "stdout",
     "output_type": "stream",
     "text": [
      "DebtRatio\n"
     ]
    },
    {
     "data": {
      "text/plain": [
       "<matplotlib.axes._subplots.AxesSubplot at 0x7fe35f8c9f28>"
      ]
     },
     "execution_count": 10,
     "metadata": {},
     "output_type": "execute_result"
    },
    {
     "data": {
      "image/png": "[encoded data removed]",
      "text/plain": [
       "<Figure size 432x288 with 1 Axes>"
      ]
     },
     "metadata": {},
     "output_type": "display_data"
    }
   ],
   "source": [
    "print(df.columns[4])\n",
    "sns.boxplot(data=df[df.columns[4]])"
   ]
  },
  {
   "cell_type": "code",
   "execution_count": 11,
   "metadata": {},
   "outputs": [
    {
     "name": "stdout",
     "output_type": "stream",
     "text": [
      "MonthlyIncome\n"
     ]
    },
    {
     "data": {
      "text/plain": [
       "<matplotlib.axes._subplots.AxesSubplot at 0x7fe35f7a2240>"
      ]
     },
     "execution_count": 11,
     "metadata": {},
     "output_type": "execute_result"
    },
    {
     "data": {
      "image/png": "[encoded data removed]",
      "text/plain": [
       "<Figure size 432x288 with 1 Axes>"
      ]
     },
     "metadata": {},
     "output_type": "display_data"
    }
   ],
   "source": [
    "print(df.columns[5])\n",
    "sns.boxplot(data=df[df.columns[5]])"
   ]
  },
  {
   "cell_type": "code",
   "execution_count": 12,
   "metadata": {},
   "outputs": [
    {
     "name": "stdout",
     "output_type": "stream",
     "text": [
      "RevolvingUtilizationOfUnsecuredLines 172\n",
      "DebtRatio 281\n",
      "MonthlyIncome 237\n"
     ]
    }
   ],
   "source": [
    "#we see that numerics have some upper outliers, see how many are there and remove them\n",
    "#take 4*standard deviation for limit\n",
    "for i in [1,4,5]:\n",
    "    print(df.columns[i],len(df[~(np.abs(df[df.columns[i]]-df[df.columns[i]].mean())<=(4*df[df.columns[i]].std()))]))\n",
    "    df = df[np.abs(df[df.columns[i]]-df[df.columns[i]].mean())<=(i*df[df.columns[i]].std())]"
   ]
  },
  {
   "cell_type": "code",
   "execution_count": 13,
   "metadata": {},
   "outputs": [
    {
     "name": "stdout",
     "output_type": "stream",
     "text": [
      "RevolvingUtilizationOfUnsecuredLines\n"
     ]
    },
    {
     "data": {
      "text/plain": [
       "<matplotlib.axes._subplots.AxesSubplot at 0x7fe35f77b128>"
      ]
     },
     "execution_count": 13,
     "metadata": {},
     "output_type": "execute_result"
    },
    {
     "data": {
      "image/png": "[encoded data removed]",
      "text/plain": [
       "<Figure size 432x288 with 1 Axes>"
      ]
     },
     "metadata": {},
     "output_type": "display_data"
    }
   ],
   "source": [
    "print(df.columns[1])\n",
    "sns.boxplot(data=df[df.columns[1]])"
   ]
  },
  {
   "cell_type": "code",
   "execution_count": 14,
   "metadata": {},
   "outputs": [
    {
     "name": "stdout",
     "output_type": "stream",
     "text": [
      "DebtRatio\n"
     ]
    },
    {
     "data": {
      "text/plain": [
       "<matplotlib.axes._subplots.AxesSubplot at 0x7fe35f6ca080>"
      ]
     },
     "execution_count": 14,
     "metadata": {},
     "output_type": "execute_result"
    },
    {
     "data": {
      "image/png": "[encoded data removed]",
      "text/plain": [
       "<Figure size 432x288 with 1 Axes>"
      ]
     },
     "metadata": {},
     "output_type": "display_data"
    }
   ],
   "source": [
    "print(df.columns[4])\n",
    "sns.boxplot(data=df[df.columns[5]])"
   ]
  },
  {
   "cell_type": "code",
   "execution_count": 15,
   "metadata": {},
   "outputs": [
    {
     "name": "stdout",
     "output_type": "stream",
     "text": [
      "MonthlyIncome\n"
     ]
    },
    {
     "data": {
      "text/plain": [
       "<matplotlib.axes._subplots.AxesSubplot at 0x7fe35f6b1320>"
      ]
     },
     "execution_count": 15,
     "metadata": {},
     "output_type": "execute_result"
    },
    {
     "data": {
      "image/png": "[encoded data removed]",
      "text/plain": [
       "<Figure size 432x288 with 1 Axes>"
      ]
     },
     "metadata": {},
     "output_type": "display_data"
    }
   ],
   "source": [
    "print(df.columns[5])\n",
    "sns.boxplot(data=df[df.columns[5]])"
   ]
  },
  {
   "cell_type": "code",
   "execution_count": 16,
   "metadata": {},
   "outputs": [
    {
     "data": {
      "text/plain": [
       "<matplotlib.axes._subplots.AxesSubplot at 0x7fe35f60f7f0>"
      ]
     },
     "execution_count": 16,
     "metadata": {},
     "output_type": "execute_result"
    },
    {
     "data": {
      "image/png": "[encoded data removed]",
      "text/plain": [
       "<Figure size 2160x576 with 1 Axes>"
      ]
     },
     "metadata": {},
     "output_type": "display_data"
    }
   ],
   "source": [
    "#visualize categoric variables\n",
    "import matplotlib.pyplot as plt\n",
    "categoric = [2,3,6,7,8,9,10]\n",
    "_, axes = plt.subplots(1, 1, figsize=(30, 8))\n",
    "sns.countplot(x=df.columns[2], data=df)"
   ]
  },
  {
   "cell_type": "code",
   "execution_count": 17,
   "metadata": {},
   "outputs": [
    {
     "data": {
      "text/plain": [
       "<matplotlib.axes._subplots.AxesSubplot at 0x7fe35f5f0d30>"
      ]
     },
     "execution_count": 17,
     "metadata": {},
     "output_type": "execute_result"
    },
    {
     "data": {
      "image/png": "[encoded data removed]",
      "text/plain": [
       "<Figure size 432x288 with 1 Axes>"
      ]
     },
     "metadata": {},
     "output_type": "display_data"
    }
   ],
   "source": [
    "sns.countplot(x=df.columns[3], data=df)"
   ]
  },
  {
   "cell_type": "code",
   "execution_count": 18,
   "metadata": {},
   "outputs": [
    {
     "data": {
      "text/plain": [
       "<matplotlib.axes._subplots.AxesSubplot at 0x7fe35f395be0>"
      ]
     },
     "execution_count": 18,
     "metadata": {},
     "output_type": "execute_result"
    },
    {
     "data": {
      "image/png": "[encoded data removed]",
      "text/plain": [
       "<Figure size 1440x576 with 1 Axes>"
      ]
     },
     "metadata": {},
     "output_type": "display_data"
    }
   ],
   "source": [
    "_, axes = plt.subplots(1, 1, figsize=(20, 8))\n",
    "sns.countplot(x=df.columns[6], data=df)"
   ]
  },
  {
   "cell_type": "code",
   "execution_count": 19,
   "metadata": {},
   "outputs": [
    {
     "data": {
      "text/plain": [
       "<matplotlib.axes._subplots.AxesSubplot at 0x7fe35f273dd8>"
      ]
     },
     "execution_count": 19,
     "metadata": {},
     "output_type": "execute_result"
    },
    {
     "data": {
      "image/png": "[encoded data removed]",
      "text/plain": [
       "<Figure size 432x288 with 1 Axes>"
      ]
     },
     "metadata": {},
     "output_type": "display_data"
    }
   ],
   "source": [
    "sns.countplot(x=df.columns[7], data=df)"
   ]
  },
  {
   "cell_type": "code",
   "execution_count": 20,
   "metadata": {},
   "outputs": [
    {
     "data": {
      "text/plain": [
       "<matplotlib.axes._subplots.AxesSubplot at 0x7fe35f1a1320>"
      ]
     },
     "execution_count": 20,
     "metadata": {},
     "output_type": "execute_result"
    },
    {
     "data": {
      "image/png": "[encoded data removed]",
      "text/plain": [
       "<Figure size 432x288 with 1 Axes>"
      ]
     },
     "metadata": {},
     "output_type": "display_data"
    }
   ],
   "source": [
    "sns.countplot(x=df.columns[8], data=df)"
   ]
  },
  {
   "cell_type": "code",
   "execution_count": 21,
   "metadata": {},
   "outputs": [
    {
     "data": {
      "text/plain": [
       "<matplotlib.axes._subplots.AxesSubplot at 0x7fe35f143cf8>"
      ]
     },
     "execution_count": 21,
     "metadata": {},
     "output_type": "execute_result"
    },
    {
     "data": {
      "image/png": "[encoded data removed]",
      "text/plain": [
       "<Figure size 432x288 with 1 Axes>"
      ]
     },
     "metadata": {},
     "output_type": "display_data"
    }
   ],
   "source": [
    "sns.countplot(x=df.columns[9], data=df)"
   ]
  },
  {
   "cell_type": "code",
   "execution_count": 22,
   "metadata": {},
   "outputs": [
    {
     "data": {
      "text/plain": [
       "0.0     90414\n",
       "1.0     26216\n",
       "2.0     19434\n",
       "3.0      9445\n",
       "4.0      2849\n",
       "5.0       744\n",
       "6.0       158\n",
       "7.0        51\n",
       "8.0        24\n",
       "9.0         5\n",
       "10.0        5\n",
       "13.0        1\n",
       "20.0        1\n",
       "Name: NumberOfDependents, dtype: int64"
      ]
     },
     "execution_count": 22,
     "metadata": {},
     "output_type": "execute_result"
    },
    {
     "data": {
      "image/png": "[encoded data removed]",
      "text/plain": [
       "<Figure size 432x288 with 1 Axes>"
      ]
     },
     "metadata": {},
     "output_type": "display_data"
    }
   ],
   "source": [
    "sns.countplot(x=df.columns[10], data=df)\n",
    "df['NumberOfDependents'].value_counts()"
   ]
  },
  {
   "cell_type": "code",
   "execution_count": 23,
   "metadata": {},
   "outputs": [
    {
     "data": {
      "text/plain": [
       "<matplotlib.axes._subplots.AxesSubplot at 0x7fe35eff0c88>"
      ]
     },
     "execution_count": 23,
     "metadata": {},
     "output_type": "execute_result"
    },
    {
     "data": {
      "image/png": "[encoded data removed]",
      "text/plain": [
       "<Figure size 432x288 with 1 Axes>"
      ]
     },
     "metadata": {},
     "output_type": "display_data"
    }
   ],
   "source": [
    "#generally speaking, categoric variables are ok\n",
    "#maybe we can remove those with more than 5 dependents\n",
    "df = df[df['NumberOfDependents'] <= 5]\n",
    "df['NumberOfDependents'].value_counts()\n",
    "sns.countplot(x=df.columns[10], data=df)"
   ]
  },
  {
   "cell_type": "code",
   "execution_count": 24,
   "metadata": {},
   "outputs": [
    {
     "name": "stdout",
     "output_type": "stream",
     "text": [
      "We now have 149102 rows, which means we deleted 898 rows, which is 0.005986666666666667 %. Not much.\n"
     ]
    }
   ],
   "source": [
    "print('We now have', len(df), 'rows, which means we deleted',150000 - len(df), 'rows, which is', (150000-len(df))/150000, '%. Not much.')"
   ]
  },
  {
   "cell_type": "code",
   "execution_count": 25,
   "metadata": {},
   "outputs": [
    {
     "name": "stdout",
     "output_type": "stream",
     "text": [
      "age is not affecting the outcome too much since the plots are nearly the same,\n",
      " but we need to keep in mind that we have class imbalance\n"
     ]
    },
    {
     "data": {
      "image/png": "[encoded data removed]",
      "text/plain": [
       "<Figure size 432x288 with 2 Axes>"
      ]
     },
     "metadata": {},
     "output_type": "display_data"
    }
   ],
   "source": [
    "#Lets see how our categoric variables behave with respect to the outcome\n",
    "df[df.columns[2]].hist(by=df['SeriousDlqin2yrs'])\n",
    "print(df.columns[2], 'is not affecting the outcome too much since the plots are nearly the same,\\n',\n",
    "     'but we need to keep in mind that we have class imbalance')"
   ]
  },
  {
   "cell_type": "code",
   "execution_count": 26,
   "metadata": {},
   "outputs": [
    {
     "name": "stdout",
     "output_type": "stream",
     "text": [
      "NumberOfTime30-59DaysPastDueNotWorse\n"
     ]
    },
    {
     "data": {
      "image/png": "[encoded data removed]",
      "text/plain": [
       "<Figure size 432x288 with 2 Axes>"
      ]
     },
     "metadata": {},
     "output_type": "display_data"
    }
   ],
   "source": [
    "df[df.columns[3]].hist(by=df['SeriousDlqin2yrs'],bins=range(0,10))\n",
    "print(df.columns[3])"
   ]
  },
  {
   "cell_type": "code",
   "execution_count": 27,
   "metadata": {},
   "outputs": [
    {
     "name": "stdout",
     "output_type": "stream",
     "text": [
      "NumberOfOpenCreditLinesAndLoans\n"
     ]
    },
    {
     "data": {
      "image/png": "[encoded data removed]",
      "text/plain": [
       "<Figure size 432x288 with 2 Axes>"
      ]
     },
     "metadata": {},
     "output_type": "display_data"
    }
   ],
   "source": [
    "df[df.columns[6]].hist(by=df['SeriousDlqin2yrs'], bins=range(0,30))\n",
    "print(df.columns[6])"
   ]
  },
  {
   "cell_type": "code",
   "execution_count": 28,
   "metadata": {},
   "outputs": [
    {
     "name": "stdout",
     "output_type": "stream",
     "text": [
      "NumberOfTimes90DaysLate\n"
     ]
    },
    {
     "data": {
      "image/png": "[encoded data removed]",
      "text/plain": [
       "<Figure size 432x288 with 2 Axes>"
      ]
     },
     "metadata": {},
     "output_type": "display_data"
    }
   ],
   "source": [
    "df[df.columns[7]].hist(by=df['SeriousDlqin2yrs'], bins=range(0,10))\n",
    "print(df.columns[7])"
   ]
  },
  {
   "cell_type": "code",
   "execution_count": 29,
   "metadata": {},
   "outputs": [
    {
     "name": "stdout",
     "output_type": "stream",
     "text": [
      "NumberRealEstateLoansOrLines\n"
     ]
    },
    {
     "data": {
      "image/png": "[encoded data removed]",
      "text/plain": [
       "<Figure size 432x288 with 2 Axes>"
      ]
     },
     "metadata": {},
     "output_type": "display_data"
    }
   ],
   "source": [
    "df[df.columns[8]].hist(by=df['SeriousDlqin2yrs'], bins=range(0,15))\n",
    "print(df.columns[8])"
   ]
  },
  {
   "cell_type": "code",
   "execution_count": 30,
   "metadata": {},
   "outputs": [
    {
     "name": "stdout",
     "output_type": "stream",
     "text": [
      "NumberOfTime60-89DaysPastDueNotWorse\n"
     ]
    },
    {
     "data": {
      "image/png": "[encoded data removed]",
      "text/plain": [
       "<Figure size 432x288 with 2 Axes>"
      ]
     },
     "metadata": {},
     "output_type": "display_data"
    }
   ],
   "source": [
    "df[df.columns[9]].hist(by=df['SeriousDlqin2yrs'], bins=range(0,7))\n",
    "print(df.columns[9])"
   ]
  },
  {
   "cell_type": "code",
   "execution_count": 31,
   "metadata": {},
   "outputs": [
    {
     "name": "stdout",
     "output_type": "stream",
     "text": [
      "NumberOfDependents\n"
     ]
    },
    {
     "data": {
      "image/png": "[encoded data removed]",
      "text/plain": [
       "<Figure size 432x288 with 2 Axes>"
      ]
     },
     "metadata": {},
     "output_type": "display_data"
    }
   ],
   "source": [
    "df[df.columns[10]].hist(by=df['SeriousDlqin2yrs'],bins=range(0,7))\n",
    "print(df.columns[10])"
   ]
  },
  {
   "cell_type": "markdown",
   "metadata": {},
   "source": [
    "We can say that generally deliquent people had more difficulties paying their debts, more dependents and more credit lines. That was expected."
   ]
  },
  {
   "cell_type": "code",
   "execution_count": 32,
   "metadata": {},
   "outputs": [],
   "source": [
    "#sns.violinplot(x=df.columns[0], y=df.columns[1], data=df)"
   ]
  },
  {
   "cell_type": "code",
   "execution_count": 33,
   "metadata": {},
   "outputs": [],
   "source": [
    "#sns.violinplot(x=df.columns[0], y=df.columns[4], data=df)"
   ]
  },
  {
   "cell_type": "code",
   "execution_count": 34,
   "metadata": {},
   "outputs": [],
   "source": [
    "#sns.violinplot(x=df.columns[0], y=df.columns[5], data=df)"
   ]
  },
  {
   "cell_type": "code",
   "execution_count": 35,
   "metadata": {},
   "outputs": [
    {
     "name": "stdout",
     "output_type": "stream",
     "text": [
      "METHOD: pearson , TOP 10\n",
      "0.43307405909281743 NumberOfOpenCreditLinesAndLoans - NumberRealEstateLoansOrLines\n",
      "0.31513512241750974 MonthlyIncome - NumberRealEstateLoansOrLines\n",
      "0.31159465101130523 SeriousDlqin2yrs - NumberOfTimes90DaysLate\n",
      "0.3060145829804228 NumberOfTime30-59DaysPastDueNotWorse - NumberOfTime60-89DaysPastDueNotWorse\n",
      "0.29465778861787384 NumberOfTimes90DaysLate - NumberOfTime60-89DaysPastDueNotWorse\n",
      "0.2706425219727398 SeriousDlqin2yrs - NumberOfTime30-59DaysPastDueNotWorse\n",
      "0.26523223470981055 SeriousDlqin2yrs - NumberOfTime60-89DaysPastDueNotWorse\n",
      "0.23236597937491046 MonthlyIncome - NumberOfOpenCreditLinesAndLoans\n",
      "0.2183845970480379 NumberOfTime30-59DaysPastDueNotWorse - NumberOfTimes90DaysLate\n",
      "-0.2183270107954695 age - NumberOfDependents\n",
      "METHOD: spearman , TOP 10\n",
      "0.47205178322882424 NumberOfOpenCreditLinesAndLoans - NumberRealEstateLoansOrLines\n",
      "0.39886976652193795 DebtRatio - NumberRealEstateLoansOrLines\n",
      "0.3477266618057114 MonthlyIncome - NumberRealEstateLoansOrLines\n",
      "0.331805481089453 SeriousDlqin2yrs - NumberOfTimes90DaysLate\n",
      "0.2962480006962267 NumberOfTimes90DaysLate - NumberOfTime60-89DaysPastDueNotWorse\n",
      "-0.2792832919959261 RevolvingUtilizationOfUnsecuredLines - age\n",
      "0.2735069484214131 MonthlyIncome - NumberOfOpenCreditLinesAndLoans\n",
      "0.26532613942892563 SeriousDlqin2yrs - NumberOfTime60-89DaysPastDueNotWorse\n",
      "0.26441618237256675 NumberOfTime30-59DaysPastDueNotWorse - NumberOfTime60-89DaysPastDueNotWorse\n",
      "0.24762164866946057 SeriousDlqin2yrs - NumberOfTime30-59DaysPastDueNotWorse\n"
     ]
    }
   ],
   "source": [
    "#Lets see the correlation between columns\n",
    "def correlation(data, method='pearson',top=10):\n",
    "    \"\"\"Calculates the correlation coefficients between columns.\n",
    "    Displays them in descending order of their absolute values.\"\"\"\n",
    "    columns = list(data)\n",
    "    coefficients = data.astype(float).corr(method=method)\n",
    "    results = []\n",
    "    for i in range(len(columns)):\n",
    "        for j in range(i + 1, len(columns)):\n",
    "            coefficient = coefficients[columns[i]][columns[j]]\n",
    "            results.append((\n",
    "                abs(coefficient), coefficient,\n",
    "                columns[i] + ' - ' + columns[j]))\n",
    "    print('METHOD:', method,', TOP', top)\n",
    "    for result in list(reversed(sorted(results)))[:top]:\n",
    "        abs_coefficient, coefficient, columns_pair = result\n",
    "        print (coefficient, columns_pair)\n",
    "        \n",
    "correlation(df,'pearson',10)\n",
    "correlation(df,'spearman',10)"
   ]
  },
  {
   "cell_type": "code",
   "execution_count": 36,
   "metadata": {},
   "outputs": [
    {
     "data": {
      "text/html": [
       "<div>\n",
       "<style scoped>\n",
       "    .dataframe tbody tr th:only-of-type {\n",
       "        vertical-align: middle;\n",
       "    }\n",
       "\n",
       "    .dataframe tbody tr th {\n",
       "        vertical-align: top;\n",
       "    }\n",
       "\n",
       "    .dataframe thead th {\n",
       "        text-align: right;\n",
       "    }\n",
       "</style>\n",
       "<table border=\"1\" class=\"dataframe\">\n",
       "  <thead>\n",
       "    <tr style=\"text-align: right;\">\n",
       "      <th></th>\n",
       "      <th>SeriousDlqin2yrs</th>\n",
       "      <th>RevolvingUtilizationOfUnsecuredLines</th>\n",
       "      <th>age</th>\n",
       "      <th>NumberOfTime30-59DaysPastDueNotWorse</th>\n",
       "      <th>DebtRatio</th>\n",
       "      <th>MonthlyIncome</th>\n",
       "      <th>NumberOfOpenCreditLinesAndLoans</th>\n",
       "      <th>NumberOfTimes90DaysLate</th>\n",
       "      <th>NumberRealEstateLoansOrLines</th>\n",
       "      <th>NumberOfTime60-89DaysPastDueNotWorse</th>\n",
       "      <th>NumberOfDependents</th>\n",
       "    </tr>\n",
       "  </thead>\n",
       "  <tbody>\n",
       "    <tr>\n",
       "      <th>count</th>\n",
       "      <td>149102.000000</td>\n",
       "      <td>149102.000000</td>\n",
       "      <td>149102.000000</td>\n",
       "      <td>149102.000000</td>\n",
       "      <td>149102.000000</td>\n",
       "      <td>149102.000000</td>\n",
       "      <td>149102.000000</td>\n",
       "      <td>149102.000000</td>\n",
       "      <td>149102.000000</td>\n",
       "      <td>149102.000000</td>\n",
       "      <td>149102.000000</td>\n",
       "    </tr>\n",
       "    <tr>\n",
       "      <th>mean</th>\n",
       "      <td>0.066713</td>\n",
       "      <td>0.337401</td>\n",
       "      <td>52.297414</td>\n",
       "      <td>0.245060</td>\n",
       "      <td>317.365003</td>\n",
       "      <td>6220.245631</td>\n",
       "      <td>8.443334</td>\n",
       "      <td>0.090435</td>\n",
       "      <td>1.010946</td>\n",
       "      <td>0.064748</td>\n",
       "      <td>0.727925</td>\n",
       "    </tr>\n",
       "    <tr>\n",
       "      <th>std</th>\n",
       "      <td>0.249525</td>\n",
       "      <td>1.507817</td>\n",
       "      <td>14.786549</td>\n",
       "      <td>0.696924</td>\n",
       "      <td>942.248543</td>\n",
       "      <td>4465.381742</td>\n",
       "      <td>5.137266</td>\n",
       "      <td>0.485776</td>\n",
       "      <td>1.112477</td>\n",
       "      <td>0.329958</td>\n",
       "      <td>1.080696</td>\n",
       "    </tr>\n",
       "    <tr>\n",
       "      <th>min</th>\n",
       "      <td>0.000000</td>\n",
       "      <td>0.000000</td>\n",
       "      <td>21.000000</td>\n",
       "      <td>0.000000</td>\n",
       "      <td>0.000000</td>\n",
       "      <td>0.000000</td>\n",
       "      <td>0.000000</td>\n",
       "      <td>0.000000</td>\n",
       "      <td>0.000000</td>\n",
       "      <td>0.000000</td>\n",
       "      <td>0.000000</td>\n",
       "    </tr>\n",
       "    <tr>\n",
       "      <th>25%</th>\n",
       "      <td>0.000000</td>\n",
       "      <td>0.029735</td>\n",
       "      <td>41.000000</td>\n",
       "      <td>0.000000</td>\n",
       "      <td>0.175208</td>\n",
       "      <td>3900.000000</td>\n",
       "      <td>5.000000</td>\n",
       "      <td>0.000000</td>\n",
       "      <td>0.000000</td>\n",
       "      <td>0.000000</td>\n",
       "      <td>0.000000</td>\n",
       "    </tr>\n",
       "    <tr>\n",
       "      <th>50%</th>\n",
       "      <td>0.000000</td>\n",
       "      <td>0.153343</td>\n",
       "      <td>52.000000</td>\n",
       "      <td>0.000000</td>\n",
       "      <td>0.366227</td>\n",
       "      <td>5400.000000</td>\n",
       "      <td>8.000000</td>\n",
       "      <td>0.000000</td>\n",
       "      <td>1.000000</td>\n",
       "      <td>0.000000</td>\n",
       "      <td>0.000000</td>\n",
       "    </tr>\n",
       "    <tr>\n",
       "      <th>75%</th>\n",
       "      <td>0.000000</td>\n",
       "      <td>0.556142</td>\n",
       "      <td>63.000000</td>\n",
       "      <td>0.000000</td>\n",
       "      <td>0.861201</td>\n",
       "      <td>7370.000000</td>\n",
       "      <td>11.000000</td>\n",
       "      <td>0.000000</td>\n",
       "      <td>2.000000</td>\n",
       "      <td>0.000000</td>\n",
       "      <td>1.000000</td>\n",
       "    </tr>\n",
       "    <tr>\n",
       "      <th>max</th>\n",
       "      <td>1.000000</td>\n",
       "      <td>250.583333</td>\n",
       "      <td>109.000000</td>\n",
       "      <td>13.000000</td>\n",
       "      <td>8501.000000</td>\n",
       "      <td>70833.000000</td>\n",
       "      <td>58.000000</td>\n",
       "      <td>17.000000</td>\n",
       "      <td>54.000000</td>\n",
       "      <td>11.000000</td>\n",
       "      <td>5.000000</td>\n",
       "    </tr>\n",
       "  </tbody>\n",
       "</table>\n",
       "</div>"
      ],
      "text/plain": [
       "       SeriousDlqin2yrs  RevolvingUtilizationOfUnsecuredLines            age  \\\n",
       "count     149102.000000                         149102.000000  149102.000000   \n",
       "mean           0.066713                              0.337401      52.297414   \n",
       "std            0.249525                              1.507817      14.786549   \n",
       "min            0.000000                              0.000000      21.000000   \n",
       "25%            0.000000                              0.029735      41.000000   \n",
       "50%            0.000000                              0.153343      52.000000   \n",
       "75%            0.000000                              0.556142      63.000000   \n",
       "max            1.000000                            250.583333     109.000000   \n",
       "\n",
       "       NumberOfTime30-59DaysPastDueNotWorse      DebtRatio  MonthlyIncome  \\\n",
       "count                         149102.000000  149102.000000  149102.000000   \n",
       "mean                               0.245060     317.365003    6220.245631   \n",
       "std                                0.696924     942.248543    4465.381742   \n",
       "min                                0.000000       0.000000       0.000000   \n",
       "25%                                0.000000       0.175208    3900.000000   \n",
       "50%                                0.000000       0.366227    5400.000000   \n",
       "75%                                0.000000       0.861201    7370.000000   \n",
       "max                               13.000000    8501.000000   70833.000000   \n",
       "\n",
       "       NumberOfOpenCreditLinesAndLoans  NumberOfTimes90DaysLate  \\\n",
       "count                    149102.000000            149102.000000   \n",
       "mean                          8.443334                 0.090435   \n",
       "std                           5.137266                 0.485776   \n",
       "min                           0.000000                 0.000000   \n",
       "25%                           5.000000                 0.000000   \n",
       "50%                           8.000000                 0.000000   \n",
       "75%                          11.000000                 0.000000   \n",
       "max                          58.000000                17.000000   \n",
       "\n",
       "       NumberRealEstateLoansOrLines  NumberOfTime60-89DaysPastDueNotWorse  \\\n",
       "count                 149102.000000                         149102.000000   \n",
       "mean                       1.010946                              0.064748   \n",
       "std                        1.112477                              0.329958   \n",
       "min                        0.000000                              0.000000   \n",
       "25%                        0.000000                              0.000000   \n",
       "50%                        1.000000                              0.000000   \n",
       "75%                        2.000000                              0.000000   \n",
       "max                       54.000000                             11.000000   \n",
       "\n",
       "       NumberOfDependents  \n",
       "count       149102.000000  \n",
       "mean             0.727925  \n",
       "std              1.080696  \n",
       "min              0.000000  \n",
       "25%              0.000000  \n",
       "50%              0.000000  \n",
       "75%              1.000000  \n",
       "max              5.000000  "
      ]
     },
     "execution_count": 36,
     "metadata": {},
     "output_type": "execute_result"
    }
   ],
   "source": [
    "df.describe()"
   ]
  },
  {
   "cell_type": "code",
   "execution_count": 37,
   "metadata": {},
   "outputs": [
    {
     "name": "stdout",
     "output_type": "stream",
     "text": [
      "<class 'sklearn.linear_model.logistic.LogisticRegression'> :\n",
      "ROC 0.5722195258536272 Recall: 0.15180896552463213 Accuracy: 0.9363654274532915\n",
      "ROC AUC without skf cv: 0.5682724254660656 \n",
      "\n",
      "<class 'sklearn.tree.tree.DecisionTreeClassifier'> :\n",
      "ROC 0.6061304631912255 Recall: 0.2720828466201565 Accuracy: 0.8954715548085874\n",
      "ROC AUC without skf cv: 0.6008427829782534 \n",
      "\n",
      "<class 'sklearn.naive_bayes.GaussianNB'> :\n",
      "ROC 0.6659031553496746 Recall: 0.3697676100864831 Accuracy: 0.9224062731405575\n",
      "ROC AUC without skf cv: 0.667669665520622 \n",
      "\n",
      "<class 'sklearn.neighbors.classification.KNeighborsClassifier'> :\n",
      "ROC 0.5042228534859154 Recall: 0.011359171105133618 Accuracy: 0.9311251493482848\n",
      "ROC AUC without skf cv: 0.5057503215789152 \n",
      "\n"
     ]
    }
   ],
   "source": [
    "from sklearn.metrics import roc_auc_score,recall_score,accuracy_score\n",
    "from sklearn import linear_model, tree, svm, naive_bayes, neighbors\n",
    "from sklearn import model_selection\n",
    "\n",
    "def predict(x_train, y_train, x_test, model):\n",
    "    \"\"\"Predicts the probability of serious delinquency.\"\"\"\n",
    "    model.fit(x_train, y_train)\n",
    "    y_predict = model.predict(x_test)\n",
    "    y_predict[y_predict < 0.5] = 0\n",
    "    y_predict[y_predict >= 0.5] = 1\n",
    "    return y_predict\n",
    "\n",
    "def score_strat_k_fold(x, y, model):\n",
    "    \"\"\"\n",
    "    Estimates the area under ROC curve and recall of a model,\n",
    "    using stratified K-fold CV.\n",
    "    \"\"\"\n",
    "    # Use k-fold cross-validation and average the scores.\n",
    "    kfold = model_selection.StratifiedKFold(n_splits=5)\n",
    "    auc_scores = []\n",
    "    recall_scores = []\n",
    "    acc_scores = []\n",
    "    for train_index, test_index in kfold.split(x,y):\n",
    "        x_train = x.iloc[train_index]\n",
    "        y_train = y.iloc[train_index]\n",
    "        x_test = x.iloc[test_index]\n",
    "        y_test = y.iloc[test_index]\n",
    "        pred = predict(x_train, y_train, x_test, model)\n",
    "        auc_score = roc_auc_score(y_test, pred)\n",
    "        auc_scores.append(auc_score)\n",
    "        recall_scores.append(recall_score(y_test,pred))\n",
    "        acc_scores.append(accuracy_score(y_test,pred))\n",
    "        \n",
    "    auc = np.mean(auc_scores)\n",
    "    recall = np.mean(recall_scores)\n",
    "    acc = np.mean(acc_scores)\n",
    "    return auc,recall,acc\n",
    "\n",
    "\n",
    "    \n",
    "simpleModels = [linear_model.LogisticRegression(),tree.DecisionTreeClassifier(),naive_bayes.GaussianNB(),neighbors.KNeighborsClassifier()]\n",
    "\n",
    "X = df.drop('SeriousDlqin2yrs', axis=1)\n",
    "y = df['SeriousDlqin2yrs']\n",
    "\n",
    "X_train, X_test, y_train, y_test = model_selection.train_test_split(X, y, test_size=0.25)\n",
    "\n",
    "def print_metrics(models):\n",
    "    for model in models:\n",
    "        roc, recall, acc = score_strat_k_fold(X_train,y_train,model)\n",
    "        print(model.__class__,':\\nROC', roc,'Recall:', recall,'Accuracy:',acc)\n",
    "        print('ROC AUC without skf cv:',roc_auc_score(y_test,predict(X_train,y_train,X_test,model)),'\\n')\n",
    "\n",
    "print_metrics(simpleModels)"
   ]
  },
  {
   "cell_type": "markdown",
   "metadata": {},
   "source": [
    "Naive bayes performed best with default parameters. ROC 0.6763124956815666 Recall: 0.3961307538358906"
   ]
  },
  {
   "cell_type": "code",
   "execution_count": 38,
   "metadata": {},
   "outputs": [
    {
     "name": "stdout",
     "output_type": "stream",
     "text": [
      "<class 'sklearn.ensemble.weight_boosting.AdaBoostClassifier'> :\n",
      "ROC 0.5957212919223304 Recall: 0.20352773282750886 Accuracy: 0.9354264527182\n",
      "ROC AUC without skf cv: 0.593036659996329 \n",
      "\n",
      "<class 'sklearn.ensemble.gradient_boosting.GradientBoostingClassifier'> :\n",
      "ROC 0.587270385717025 Recall: 0.1836166093327475 Accuracy: 0.9369019745057562\n",
      "ROC AUC without skf cv: 0.5823550731125705 \n",
      "\n",
      "<class 'sklearn.ensemble.forest.RandomForestClassifier'> :\n",
      "ROC 0.5771453590277758 Recall: 0.16651002539839038 Accuracy: 0.9328242167470865\n",
      "ROC AUC without skf cv: 0.579383429322028 \n",
      "\n",
      "<class 'sklearn.ensemble.bagging.BaggingClassifier'> :\n",
      "ROC 0.5813583681737384 Recall: 0.1774661622710662 Accuracy: 0.9311966673103113\n",
      "ROC AUC without skf cv: 0.5829428546433459 \n",
      "\n"
     ]
    }
   ],
   "source": [
    "from sklearn.ensemble import AdaBoostClassifier, GradientBoostingClassifier, RandomForestClassifier,BaggingClassifier\n",
    "ensembleModels = [AdaBoostClassifier(),GradientBoostingClassifier(),RandomForestClassifier(),BaggingClassifier()]\n",
    "\n",
    "print_metrics(ensembleModels)"
   ]
  },
  {
   "cell_type": "code",
   "execution_count": 39,
   "metadata": {},
   "outputs": [
    {
     "name": "stdout",
     "output_type": "stream",
     "text": [
      "Ensemble models with custom base classifier\n",
      "<class 'sklearn.ensemble.weight_boosting.AdaBoostClassifier'> :\n",
      "ROC 0.49764892353776047 Recall: 0.4353528804489549 Accuracy: 0.5515967997199418\n",
      "ROC AUC without skf cv: 0.5387857700583916 \n",
      "\n",
      "<class 'sklearn.ensemble.bagging.BaggingClassifier'> :\n",
      "ROC 0.6662224720978408 Recall: 0.3707033496583184 Accuracy: 0.9221916408847634\n",
      "ROC AUC without skf cv: 0.6702844527786358 \n",
      "\n"
     ]
    }
   ],
   "source": [
    "print('Ensemble models with custom base classifier')\n",
    "ensembleModels = [AdaBoostClassifier(base_estimator=naive_bayes.GaussianNB()),\n",
    "                 BaggingClassifier(base_estimator=naive_bayes.GaussianNB())]\n",
    "print_metrics(ensembleModels)"
   ]
  },
  {
   "cell_type": "markdown",
   "metadata": {},
   "source": [
    "Parameter optimization"
   ]
  },
  {
   "cell_type": "code",
   "execution_count": 40,
   "metadata": {},
   "outputs": [
    {
     "data": {
      "text/plain": [
       "\"\\nBagging:\\nBest params: {'n_estimators': 20} \\nBestScore: 0.831231784460619 \\n\\n\\nADA:\\nBest params: {'n_estimators': 100} \\nBestScore: 0.8576901057644939 \\n\\n\\nGB:\\nBest params: {'n_estimators': 100, 'max_depth': 4, 'loss': 'deviance'} \\nBestScore: 0.8631587083574075 \\n\""
      ]
     },
     "execution_count": 40,
     "metadata": {},
     "output_type": "execute_result"
    }
   ],
   "source": [
    "from sklearn.model_selection import RandomizedSearchCV\n",
    "bg = BaggingClassifier(base_estimator=naive_bayes.GaussianNB())\n",
    "ada = AdaBoostClassifier()\n",
    "gb = GradientBoostingClassifier()\n",
    "\n",
    "\n",
    "bgHyperParams = {'n_estimators': [10,20,50,100,200,400]}\n",
    "adaHyperParams = {'n_estimators': [10,20,50,100,200,400]}\n",
    "gbHyperParams = {'loss' : ['deviance', 'exponential'],\n",
    "                 'n_estimators': [10,20,40,100,200],\n",
    "                 'max_depth': [1,2,4,6,8,10]}\n",
    "\n",
    "#gridSearchAda = RandomizedSearchCV(estimator=ada, param_distributions=adaHyperParams, n_iter=5,\n",
    "#                                   scoring='roc_auc', fit_params=None, cv=None, verbose=2).fit(X_train, y_train)\n",
    "#gridSearchGB = RandomizedSearchCV(estimator=gb, param_distributions=gbHyperParams, n_iter=10,\n",
    "#                                   scoring='roc_auc', fit_params=None, cv=None, verbose=2).fit(X_train, y_train)\n",
    "#gridSearchBagging = RandomizedSearchCV(estimator=bg, param_distributions=bgHyperParams, n_iter=5,\n",
    "#                                   scoring='roc_auc', fit_params=None, cv=None, verbose=2).fit(X_train, y_train)\n",
    "\n",
    "\n",
    "#print('Bagging:\\nBest params:',gridSearchBagging.best_params_,'\\nBestScore:', gridSearchBagging.best_score_,'\\n\\n')\n",
    "#print('ADA:\\nBest params:',gridSearchAda.best_params_,'\\nBestScore:', gridSearchAda.best_score_,'\\n\\n')\n",
    "#print('GB:\\nBest params:',gridSearchGB.best_params_,'\\nBestScore:', gridSearchGB.best_score_,'\\n\\n')\n",
    "'''\n",
    "Bagging:\n",
    "Best params: {'n_estimators': 20} \n",
    "BestScore: 0.831231784460619 \n",
    "\n",
    "\n",
    "ADA:\n",
    "Best params: {'n_estimators': 100} \n",
    "BestScore: 0.8576901057644939 \n",
    "\n",
    "\n",
    "GB:\n",
    "Best params: {'n_estimators': 100, 'max_depth': 4, 'loss': 'deviance'} \n",
    "BestScore: 0.8631587083574075 \n",
    "'''"
   ]
  },
  {
   "cell_type": "code",
   "execution_count": 41,
   "metadata": {},
   "outputs": [
    {
     "name": "stdout",
     "output_type": "stream",
     "text": [
      "<class 'sklearn.ensemble.weight_boosting.AdaBoostClassifier'> :\n",
      "ROC 0.5925862587398318 Recall: 0.19684556278332066 Accuracy: 0.9353638545091527\n",
      "ROC AUC without skf cv: 0.5921369525137622 \n",
      "\n",
      "<class 'sklearn.ensemble.gradient_boosting.GradientBoostingClassifier'> :\n",
      "ROC 0.5855896012307479 Recall: 0.18054254676911757 Accuracy: 0.9364280320598665\n",
      "ROC AUC without skf cv: 0.5827141446970816 \n",
      "\n",
      "<class 'sklearn.ensemble.bagging.BaggingClassifier'> :\n",
      "ROC 0.6673096136097303 Recall: 0.3733759854825515 Accuracy: 0.9219054874681788\n",
      "ROC AUC without skf cv: 0.6709112658569742 \n",
      "\n"
     ]
    }
   ],
   "source": [
    "bestModels = [AdaBoostClassifier(n_estimators=100),GradientBoostingClassifier(n_estimators=100,max_depth=4),\n",
    "              BaggingClassifier(base_estimator=naive_bayes.GaussianNB(),n_estimators=20)]\n",
    "\n",
    "print_metrics(bestModels)"
   ]
  },
  {
   "cell_type": "markdown",
   "metadata": {},
   "source": [
    "Undersampling"
   ]
  },
  {
   "cell_type": "code",
   "execution_count": 42,
   "metadata": {},
   "outputs": [
    {
     "name": "stdout",
     "output_type": "stream",
     "text": [
      "7483\n",
      "104343\n"
     ]
    }
   ],
   "source": [
    "from sklearn.utils import resample\n",
    "data_for_resampling = pd.concat((X_train, y_train), axis=1, join='inner')\n",
    "positives = data_for_resampling[y_train == 1]\n",
    "negatives = data_for_resampling[y_train == 0]\n",
    "print(len(positives))\n",
    "print(len(negatives))"
   ]
  },
  {
   "cell_type": "code",
   "execution_count": 43,
   "metadata": {},
   "outputs": [
    {
     "name": "stdout",
     "output_type": "stream",
     "text": [
      "\n",
      "n_samples: 10000\n",
      "ROC 0.705294858165529 Recall: 0.4691897163310578 Accuracy: 0.7392884486146674\n",
      "ROC AUC without skf cv: 0.7086765264925814\n",
      "\n",
      "n_samples: 20000\n",
      "ROC 0.6919051670185291 Recall: 0.43391033403705803 Accuracy: 0.8094091417867467\n",
      "ROC AUC without skf cv: 0.6900154130311835\n",
      "\n",
      "n_samples: 30000\n",
      "ROC 0.6855922041944853 Recall: 0.4222844083889704 Accuracy: 0.8437690693495469\n",
      "ROC AUC without skf cv: 0.68486907783702\n",
      "\n",
      "n_samples: 40000\n",
      "ROC 0.6832166734538596 Recall: 0.4141333469077192 Accuracy: 0.8674894763468515\n",
      "ROC AUC without skf cv: 0.6834806599381315\n",
      "\n",
      "n_samples: 50000\n",
      "ROC 0.6790133969900586 Recall: 0.4029067939801171 Accuracy: 0.8832351094706319\n",
      "ROC AUC without skf cv: 0.6812573539725815\n",
      "\n",
      "n_samples: 60000\n",
      "ROC 0.6772680614348127 Recall: 0.4002361228696252 Accuracy: 0.8928619189958962\n",
      "ROC AUC without skf cv: 0.6751442768279635\n",
      "\n",
      "n_samples: 70000\n",
      "ROC 0.6744134234345953 Recall: 0.39208398972633324 Accuracy: 0.9022108514083147\n",
      "ROC AUC without skf cv: 0.6740648470224478\n",
      "\n",
      "n_samples: 80000\n",
      "ROC 0.6713714331068555 Recall: 0.3844678662137109 Accuracy: 0.9091938048351565\n",
      "ROC AUC without skf cv: 0.679224449212169\n",
      "\n",
      "n_samples: 90000\n",
      "ROC 0.6686436057498241 Recall: 0.3783205448329815 Accuracy: 0.9143953588263918\n",
      "ROC AUC without skf cv: 0.6700671678373332\n"
     ]
    }
   ],
   "source": [
    "def resampled_scores(n_samples):\n",
    "    print('\\nn_samples:',n_samples)\n",
    "    negative_sample=resample(negatives,n_samples=n_samples, random_state=42)\n",
    "\n",
    "    undersampled_df = pd.concat((negative_sample, positives), axis=0)\n",
    "    x_under = undersampled_df.drop('SeriousDlqin2yrs', axis=1)\n",
    "    y_under = undersampled_df['SeriousDlqin2yrs']\n",
    "    model = BaggingClassifier(base_estimator=naive_bayes.GaussianNB(),n_estimators=20)\n",
    "    roc, recall, acc = score_strat_k_fold(x_under,y_under,model)\n",
    "    print('ROC', roc,'Recall:', recall,'Accuracy:',acc)\n",
    "    print('ROC AUC without skf cv:',roc_auc_score(y_test,predict(x_under,y_under,X_test,model)))\n",
    "    \n",
    "    \n",
    "for n in [x*10000 for x in range(1,10)]:\n",
    "    resampled_scores(n)"
   ]
  }
 ],
 "metadata": {
  "kernelspec": {
   "display_name": "Python 3",
   "language": "python",
   "name": "python3"
  },
  "language_info": {
   "codemirror_mode": {
    "name": "ipython",
    "version": 3
   },
   "file_extension": ".py",
   "mimetype": "text/x-python",
   "name": "python",
   "nbconvert_exporter": "python",
   "pygments_lexer": "ipython3",
   "version": "3.6.5"
  }
 },
 "nbformat": 4,
 "nbformat_minor": 2
}
